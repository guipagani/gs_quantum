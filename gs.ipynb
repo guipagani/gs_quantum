{
 "cells": [
  {
   "cell_type": "code",
   "execution_count": 23,
   "metadata": {},
   "outputs": [],
   "source": [
    "from qiskit import QuantumCircuit, QuantumRegister\n",
    "from qiskit.circuit.library import QFT\n",
    "import numpy as np\n",
    "import random as rd\n",
    "from qiskit.visualization import plot_bloch_multivector, plot_histogram\n",
    "from qiskit.quantum_info import Statevector\n",
    "from qiskit_aer import AerSimulator\n",
    "from qiskit.primitives import StatevectorSampler, PrimitiveJob\n",
    "\n"
   ]
  },
  {
   "cell_type": "markdown",
   "metadata": {},
   "source": [
    "## 1. Passo 1\n",
    "*Inicialmente, deve-se projetar um algoritmo que constroi um circuito quantico capaz de receber uma sequencia n de medições de tempo referente ao periodo medido das ondas em uma regiao litoranea (em segundos), converte-las para portas de phase P de acordo com a equação apresentada, obter o periodo correspondente por meio da IQFT e compara-lo com o valor medio dos periodos*"
   ]
  },
  {
   "cell_type": "code",
   "execution_count": 52,
   "metadata": {},
   "outputs": [
    {
     "name": "stdout",
     "output_type": "stream",
     "text": [
      "Média das medições fornecidas: 3.2249999999999996\n",
      "Períodos detectados após QFT: [3]\n"
     ]
    }
   ],
   "source": [
    "medicoes = [3.0, 3.1, 3.5, 3.3]  #4 medições em segundos\n",
    "\n",
    "num_qubits = len(medicoes) \n",
    "qc = QuantumCircuit(num_qubits)\n",
    "\n",
    "for i in range (num_qubits):\n",
    "    qc.h(i)\n",
    "    theta = 2 * np.pi * medicoes[0] * ((2**i)/(2**num_qubits))\n",
    "    qc.p(theta, i)\n",
    "\n",
    "qc.append(QFT(num_qubits, inverse=True), range(num_qubits))\n",
    "\n",
    "qc.measure_all()\n",
    "qc.draw('mpl')\n",
    "\n",
    "sampler = StatevectorSampler()\n",
    "pub = (qc)\n",
    "job_sampler = sampler.run([pub], shots=1024)\n",
    "\n",
    "result_sampler = job_sampler.result()\n",
    "counts_sampler = result_sampler[0].data.meas.get_counts()\n",
    "\n",
    "periodos = []\n",
    "\n",
    "for bitstring, count in counts_sampler.items():\n",
    "    # Converter o bitstring para o valor numérico (período)\n",
    "    value = int(bitstring, 2)\n",
    "    # Adicionar o valor à lista de períodos\n",
    "    periodos.append(value)\n",
    "\n",
    "media_medicoes = np.mean(medicoes)\n",
    "print(f'Média das medições fornecidas: {media_medicoes}')\n",
    "\n",
    "# Exibir os períodos encontrados\n",
    "print(\"Períodos detectados após QFT:\", periodos)"
   ]
  }
 ],
 "metadata": {
  "kernelspec": {
   "display_name": "venv",
   "language": "python",
   "name": "python3"
  },
  "language_info": {
   "codemirror_mode": {
    "name": "ipython",
    "version": 3
   },
   "file_extension": ".py",
   "mimetype": "text/x-python",
   "name": "python",
   "nbconvert_exporter": "python",
   "pygments_lexer": "ipython3",
   "version": "3.12.6"
  }
 },
 "nbformat": 4,
 "nbformat_minor": 2
}
